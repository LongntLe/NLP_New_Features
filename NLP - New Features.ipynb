{
 "cells": [
  {
   "cell_type": "code",
   "execution_count": 100,
   "metadata": {
    "collapsed": true
   },
   "outputs": [],
   "source": [
    "from nltk.parse.stanford import StanfordDependencyParser\n",
    "import json\n",
    "from pprint import pprint\n",
    "import timeit\n",
    "\n",
    "#documentation: http://www.nltk.org/_modules/nltk/parse/stanford.html\n",
    "\n",
    "#requirement: set JAVAHOME env variable\n",
    "import os\n",
    "java_path = \"C:\\Program Files (x86)\\Java\\jdk1.8.0_144\"\n",
    "os.environ['JAVAHOME'] = java_path"
   ]
  },
  {
   "cell_type": "code",
   "execution_count": 86,
   "metadata": {
    "collapsed": true
   },
   "outputs": [],
   "source": [
    "# Passive - Active voice Detection\n",
    "\n",
    "#Set up: Load NLP Models from Stanford NLP\n",
    "path_to_jar = r\"C:\\Users\\Long Le\\Downloads\\stanford-parser-full-2017-06-09\\stanford-parser-full-2017-06-09\\stanford-parser.jar\"\n",
    "path_to_models_jar = r\"C:\\Users\\Long Le\\Downloads\\stanford-parser-full-2017-06-09\\stanford-parser-full-2017-06-09\\stanford-parser-3.8.0-models.jar\"\n",
    "stanford_parser = StanfordDependencyParser(path_to_jar=path_to_jar, path_to_models_jar=path_to_models_jar, encoding=\"utf-8\")\n",
    "\n",
    "def parser(sent_list):\n",
    "    \"\"\"\n",
    "    This function takes a list of sentences and detect whether each sentence is written in passive or active voice.\n",
    "    This function only notifies for a fix if the sentence is passive. \n",
    "    \"\"\"\n",
    "    text = stanford_parser.raw_parse_sents(sent_list)\n",
    "    \n",
    "    #Extract feature from the Dependency Graph. Documentation: http://www.nltk.org/_modules/nltk/parse/dependencygraph.html\n",
    "    for f in list(text):\n",
    "        for w1, rel, w2 in next(f).triples():\n",
    "            if rel == \"nsubjpass\":\n",
    "                print(w2[0], w1[0])"
   ]
  },
  {
   "cell_type": "code",
   "execution_count": 107,
   "metadata": {},
   "outputs": [
    {
     "name": "stdout",
     "output_type": "stream",
     "text": [
      "203\n",
      "malfeasance uncovered\n",
      "fraud uncovered\n",
      "Run 1 (Full list):  44.03143269135762\n",
      "Run 2 (40 sentences):  7.841723259260107\n"
     ]
    }
   ],
   "source": [
    "\"\"\"\n",
    "Example: Load a resume, parse sentences, and notify if a sentence is written in passive voice.\n",
    "\"\"\"\n",
    "with open(r\"C:\\Users\\Long Le\\Downloads\\out\\resume_0_6755.json\") as f:\n",
    "    test = json.load(f)\n",
    "\n",
    "#Parse a list of bullets\n",
    "    l = []\n",
    "for num in range(len(test[\"sections\"][\"ExperienceSection\"][\"items\"])):\n",
    "    for b in (test[\"sections\"][\"ExperienceSection\"][\"items\"][num][\"bullets\"]):\n",
    "        #print(b)\n",
    "        l.append(b)\n",
    "\n",
    "#print(l)\n",
    "print(len(l))\n",
    "start_time = timeit.default_timer()\n",
    "parser(l)\n",
    "print(\"Run 1 (Full list): \", timeit.default_timer() - start_time)\n",
    "\n",
    "start_time = timeit.default_timer()\n",
    "parser(l[:40])\n",
    "print(\"Run 2 (40 sentences): \", timeit.default_timer() - start_time)"
   ]
  },
  {
   "cell_type": "code",
   "execution_count": null,
   "metadata": {
    "collapsed": true
   },
   "outputs": [],
   "source": []
  }
 ],
 "metadata": {
  "kernelspec": {
   "display_name": "Python 3",
   "language": "python",
   "name": "python3"
  },
  "language_info": {
   "codemirror_mode": {
    "name": "ipython",
    "version": 3
   },
   "file_extension": ".py",
   "mimetype": "text/x-python",
   "name": "python",
   "nbconvert_exporter": "python",
   "pygments_lexer": "ipython3",
   "version": "3.5.3"
  }
 },
 "nbformat": 4,
 "nbformat_minor": 2
}
