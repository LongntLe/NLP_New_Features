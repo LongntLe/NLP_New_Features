{
 "cells": [
  {
   "cell_type": "code",
   "execution_count": 10,
   "metadata": {
    "collapsed": true
   },
   "outputs": [],
   "source": [
    "from nltk.parse.stanford import StanfordDependencyParser\n",
    "import json\n",
    "from pprint import pprint\n",
    "import timeit\n",
    "\n",
    "#documentation: http://www.nltk.org/_modules/nltk/parse/stanford.html\n",
    "\n",
    "#requirement: set JAVAHOME env variable\n",
    "import os\n",
    "java_path = \"C:\\Program Files (x86)\\Java\\jdk1.8.0_144\"\n",
    "os.environ['JAVAHOME'] = java_path"
   ]
  },
  {
   "cell_type": "code",
   "execution_count": 12,
   "metadata": {
    "collapsed": true
   },
   "outputs": [],
   "source": [
    "# Passive - Active voice Detection\n",
    "\n",
    "#Set up: Load NLP Models from Stanford NLP\n",
    "path_to_jar = r\"C:\\Users\\Long Le\\Downloads\\stanford-parser-full-2017-06-09\\stanford-parser-full-2017-06-09\\stanford-parser.jar\"\n",
    "path_to_models_jar = r\"C:\\Users\\Long Le\\Downloads\\stanford-parser-full-2017-06-09\\stanford-parser-full-2017-06-09\\stanford-parser-3.8.0-models.jar\"\n",
    "stanford_parser = StanfordDependencyParser(path_to_jar=path_to_jar, path_to_models_jar=path_to_models_jar, encoding=\"utf-8\")\n",
    "\n",
    "def parser(sent_list):\n",
    "    \"\"\"\n",
    "    This function takes a list of sentences and detect whether each sentence is written in passive or active voice.\n",
    "    This function only notifies for a fix if the sentence is passive. \n",
    "    \"\"\"\n",
    "    text = stanford_parser.raw_parse_sents(sent_list)\n",
    "    \n",
    "    #Extract feature from the Dependency Graph. Documentation: http://www.nltk.org/_modules/nltk/parse/dependencygraph.html\n",
    "    for f in list(text):\n",
    "        for w1, rel, w2 in next(f).triples():\n",
    "            if rel == \"nsubjpass\":\n",
    "                print(w2[0], w1[0])"
   ]
  },
  {
   "cell_type": "code",
   "execution_count": 15,
   "metadata": {},
   "outputs": [
    {
     "name": "stdout",
     "output_type": "stream",
     "text": [
      "203\n",
      "malfeasance uncovered\n",
      "fraud uncovered\n",
      "Run 1 (Full list):  55.41275394084096\n",
      "Run 2 (40 sentences):  7.062690000075008\n"
     ]
    }
   ],
   "source": [
    "\"\"\"\n",
    "Example: Load a resume, parse sentences, and notify if a sentence is written in passive voice.\n",
    "\"\"\"\n",
    "with open(r\"C:\\Users\\Long Le\\Downloads\\out\\resume_0_6755.json\") as f:\n",
    "    test = json.load(f)\n",
    "\n",
    "#Parse a list of bullets\n",
    "l = []\n",
    "for num in range(len(test[\"sections\"][\"ExperienceSection\"][\"items\"])):\n",
    "    for b in (test[\"sections\"][\"ExperienceSection\"][\"items\"][num][\"bullets\"]):\n",
    "        #print(b)\n",
    "        l.append(b)\n",
    "\n",
    "#print(l)\n",
    "print(len(l))\n",
    "start_time = timeit.default_timer()\n",
    "parser(l)\n",
    "print(\"Run 1 (Full list): \", timeit.default_timer() - start_time)\n",
    "\n",
    "start_time = timeit.default_timer()\n",
    "parser(l[:40])\n",
    "print(\"Run 2 (40 sentences): \", timeit.default_timer() - start_time)"
   ]
  },
  {
   "cell_type": "code",
   "execution_count": null,
   "metadata": {
    "collapsed": true
   },
   "outputs": [],
   "source": [
    "#spell checking\n",
    "#TODO: Ignore the same word based on user feedback\n",
    "from enchant.checker import SpellChecker\n",
    "chkr = SpellChecker(\"en_US\")\n",
    "for bullet in l:\n",
    "    chkr.set_text(e)\n",
    "    for err in chkr:\n",
    "        print(\"ERROR\", err.word)"
   ]
  },
  {
   "cell_type": "code",
   "execution_count": 24,
   "metadata": {},
   "outputs": [
    {
     "data": {
      "text/plain": [
       "[('The', 'O'),\n",
       " ('Stanford', 'ORGANIZATION'),\n",
       " ('University,', 'O'),\n",
       " ('which', 'O'),\n",
       " ('is', 'O'),\n",
       " ('where', 'O'),\n",
       " ('the', 'O'),\n",
       " ('Stanford', 'ORGANIZATION'),\n",
       " ('NER', 'ORGANIZATION'),\n",
       " ('tool', 'O'),\n",
       " ('is', 'O'),\n",
       " ('from,', 'O'),\n",
       " ('is', 'O'),\n",
       " ('located', 'O'),\n",
       " ('in', 'O'),\n",
       " ('California.', 'LOCATION'),\n",
       " ('Leonardo', 'PERSON'),\n",
       " ('Da', 'PERSON'),\n",
       " ('Vinci', 'PERSON'),\n",
       " ('was', 'O'),\n",
       " ('a', 'O'),\n",
       " ('famous', 'O'),\n",
       " ('italian', 'O'),\n",
       " ('painter,', 'O'),\n",
       " ('originally', 'O'),\n",
       " ('born', 'O'),\n",
       " ('in', 'O'),\n",
       " ('Vinci,', 'O'),\n",
       " ('Italy.', 'O'),\n",
       " ('Wikipedia', 'ORGANIZATION'),\n",
       " ('is', 'O'),\n",
       " ('one', 'O'),\n",
       " ('very', 'O'),\n",
       " ('big', 'O'),\n",
       " ('source', 'O'),\n",
       " ('of', 'O'),\n",
       " ('information', 'O'),\n",
       " ('for', 'O'),\n",
       " ('playing', 'O'),\n",
       " ('with', 'O'),\n",
       " ('Named', 'O'),\n",
       " ('Entities;', 'O'),\n",
       " ('for', 'O'),\n",
       " ('example', 'O'),\n",
       " ('start', 'O'),\n",
       " ('reading', 'O'),\n",
       " ('the', 'O'),\n",
       " ('page:', 'O'),\n",
       " ('http:en.wikipedia.orgwikiNamed-entity_recognition.', 'O')]"
      ]
     },
     "execution_count": 24,
     "metadata": {},
     "output_type": "execute_result"
    }
   ],
   "source": [
    "from nltk.tag.stanford import StanfordNERTagger\n",
    "path_to_jar = r\"C:\\Users\\Long Le\\Downloads\\stanford-ner-2017-06-09\\stanford-ner-2017-06-09\\stanford-ner.jar\"\n",
    "model_filename = r\"C:\\Users\\Long Le\\Downloads\\stanford-ner-2017-06-09\\stanford-ner-2017-06-09\\classifiers\\english.all.3class.distsim.crf.ser.gz\"\n",
    "st = StanfordNERTagger(path_to_jar=path_to_jar, model_filename=model_filename, encoding=\"utf-8\")\n",
    "st.tag(\"\"\"\n",
    "    The Stanford University, which is where the Stanford NER tool is from, is located in California.\n",
    "    Leonardo Da Vinci was a famous italian painter, originally born in Vinci, Italy.\n",
    "    Wikipedia is one very big source of information for playing with Named Entities; \n",
    "    for example start reading the page: http://en.wikipedia.org/wiki/Named-entity_recognition.\n",
    "  \"\"\".split())"
   ]
  },
  {
   "cell_type": "code",
   "execution_count": 1,
   "metadata": {},
   "outputs": [
    {
     "data": {
      "text/plain": [
       "[('The', 'O'),\n",
       " ('Stanford', 'B-PER'),\n",
       " ('University,', 'I-PER'),\n",
       " ('which', 'O'),\n",
       " ('is', 'O'),\n",
       " ('where', 'O'),\n",
       " ('the', 'O'),\n",
       " ('Stanford', 'B-LOC'),\n",
       " ('NER', 'B-MISC'),\n",
       " ('tool', 'O'),\n",
       " ('is', 'O'),\n",
       " ('from,', 'O'),\n",
       " ('is', 'O'),\n",
       " ('located', 'O'),\n",
       " ('in', 'O'),\n",
       " ('California.', 'B-PER'),\n",
       " ('Leonardo', 'I-PER'),\n",
       " ('Da', 'I-PER'),\n",
       " ('Vinci', 'I-PER'),\n",
       " ('was', 'O'),\n",
       " ('a', 'O'),\n",
       " ('famous', 'O'),\n",
       " ('italian', 'O'),\n",
       " ('painter,', 'O'),\n",
       " ('originally', 'O'),\n",
       " ('born', 'O'),\n",
       " ('in', 'O'),\n",
       " ('Vinci,', 'B-LOC'),\n",
       " ('Italy.', 'I-LOC'),\n",
       " ('Wikipedia', 'I-LOC'),\n",
       " ('is', 'O'),\n",
       " ('one', 'O'),\n",
       " ('very', 'O'),\n",
       " ('big', 'O'),\n",
       " ('source', 'O'),\n",
       " ('of', 'O'),\n",
       " ('information', 'O'),\n",
       " ('for', 'O'),\n",
       " ('playing', 'O'),\n",
       " ('with', 'O'),\n",
       " ('Named', 'O'),\n",
       " ('Entities;', 'B-PER'),\n",
       " ('for', 'O'),\n",
       " ('example', 'O'),\n",
       " ('start', 'O'),\n",
       " ('reading', 'O'),\n",
       " ('the', 'O'),\n",
       " ('page:', 'O'),\n",
       " ('http://en.wikipedia.org/wiki/Named-entity_recognition.', 'O')]"
      ]
     },
     "execution_count": 1,
     "metadata": {},
     "output_type": "execute_result"
    }
   ],
   "source": [
    "from nltk.tag import SennaNERTagger\n",
    "ner = SennaNERTagger(r\"C:\\Users\\Long Le\\Downloads\\senna-v3.0\\senna\")\n",
    "ner.tag(\"\"\"\n",
    "    The Stanford University, which is where the Stanford NER tool is from, is located in California.\n",
    "    Leonardo Da Vinci was a famous italian painter, originally born in Vinci, Italy.\n",
    "    Wikipedia is one very big source of information for playing with Named Entities; \n",
    "    for example start reading the page: http://en.wikipedia.org/wiki/Named-entity_recognition.\n",
    "  \"\"\".split())"
   ]
  }
 ],
 "metadata": {
  "kernelspec": {
   "display_name": "Python 3",
   "language": "python",
   "name": "python3"
  },
  "language_info": {
   "codemirror_mode": {
    "name": "ipython",
    "version": 3
   },
   "file_extension": ".py",
   "mimetype": "text/x-python",
   "name": "python",
   "nbconvert_exporter": "python",
   "pygments_lexer": "ipython3",
   "version": "3.5.3"
  }
 },
 "nbformat": 4,
 "nbformat_minor": 2
}
